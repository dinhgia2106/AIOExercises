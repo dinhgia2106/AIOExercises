{
 "cells": [
  {
   "cell_type": "code",
   "execution_count": 1,
   "id": "c0cb6ac3",
   "metadata": {},
   "outputs": [
    {
     "name": "stdout",
     "output_type": "stream",
     "text": [
      "[5, 5, 5, 5, 10, 12, 33, 33]\n"
     ]
    }
   ],
   "source": [
    "# Câu hỏi 1: Hoàn thành chương trình sau với mô tả bài toán từ câu I.1. Đầu ra của chương trình dưới đây là gì?\n",
    "def max_kernel(num_list, k):\n",
    "    max_num = []\n",
    "    for i in range(len(num_list)):\n",
    "        if i <= len(num_list) - k:\n",
    "            max_num.append(max(num_list[i:k + i]))\n",
    "    return max_num\n",
    "\n",
    "assert max_kernel([3, 4, 5, 1, -44], 3) == [5, 5, 5]\n",
    "num_list = [3, 4, 5, 1, -44, 5, 10, 12, 33, 1]\n",
    "k = 3\n",
    "print(max_kernel(num_list, k))\n",
    "# a) [5, 5, 5, 5, 10, 12, 33, 33]\n",
    "# b) [2, 5, 3, 4, 1, 10, 3, 3]\n",
    "# c) [0, 9, 5, 1, 0, 12, 3, 33]\n",
    "# d) Raise an Error"
   ]
  },
  {
   "cell_type": "code",
   "execution_count": 2,
   "id": "63141494",
   "metadata": {},
   "outputs": [
    {
     "name": "stdout",
     "output_type": "stream",
     "text": [
      "{'s': 2, 'm': 1, 'i': 1, 'l': 1, 'e': 1}\n"
     ]
    }
   ],
   "source": [
    "# Câu hỏi 2: Hoàn thành chương trình sau với mô tả bài toán từ câu I.2. Đầu ra của chương trình dưới đây là gì?\n",
    "def character_count(word):\n",
    "    char_count = {}\n",
    "\n",
    "    for char in word:\n",
    "        if char in char_count:\n",
    "            char_count[char] += 1\n",
    "        else:\n",
    "            char_count[char] = 1\n",
    "\n",
    "    return char_count\n",
    "\n",
    "assert character_count(\"Baby\") == {'B': 1, 'a': 1, 'b': 1, 'y': 1}\n",
    "print(character_count('smiles'))\n",
    "# a) 's': 2, 'm': 1, 'i': 1, 'l': 1, 'e': 1\n",
    "# b) 's': 0, 'm': 1, 'i': 1, 'l': 1, 'e': 8\n",
    "# c) 's': 4, 'm': 1, 'i': 2, 'l': 1, 'e': 1\n",
    "# d) Raise a Error"
   ]
  },
  {
   "cell_type": "code",
   "execution_count": 6,
   "id": "a7808210",
   "metadata": {},
   "outputs": [
    {
     "name": "stdout",
     "output_type": "stream",
     "text": [
      "6\n"
     ]
    },
    {
     "name": "stderr",
     "output_type": "stream",
     "text": [
      "Downloading...\n",
      "From: https://drive.google.com/uc?id=1IBScGdW2xlNsc9v5zSAya548kNgiOrko\n",
      "To: d:\\AIO2024\\AIOExercises\\Module 1\\Week2\\Multiple Choice\\P1_data.txt\n",
      "\n",
      "  0%|          | 0.00/747 [00:00<?, ?B/s]\n",
      "100%|██████████| 747/747 [00:00<00:00, 747kB/s]\n"
     ]
    }
   ],
   "source": [
    "# Câu hỏi 3: Hoàn thành chương trình sau với mô tả bài toán từ câu I.3. Đầu ra của chương trình dưới đây là gì?\n",
    "!gdown https://drive.google.com/uc?id=1IBScGdW2xlNsc9v5zSAya548kNgiOrko\n",
    "\n",
    "def count_word(file_path):\n",
    "    word_count = {}\n",
    "    for char in open(file_path, 'r').read().lower().split():\n",
    "        if char in word_count:\n",
    "            word_count[char] += 1\n",
    "        else:\n",
    "            word_count[char] = 1\n",
    "    return word_count\n",
    "\n",
    "file_path = 'P1_data.txt'\n",
    "result = count_word(file_path)\n",
    "assert result['who'] == 3\n",
    "print(result['man'])\n",
    "# a) 4\n",
    "# b) 5\n",
    "# c) 6\n",
    "# d) 9"
   ]
  },
  {
   "cell_type": "code",
   "execution_count": null,
   "id": "090a68a1",
   "metadata": {},
   "outputs": [],
   "source": [
    "# Câu hỏi 4: Hoàn thành chương trình sau với mô tả bài toán từ câu I.4. Đầu ra của chương trình dưới đây là gì?\n",
    "def levenshtein_distance(token1, token2):\n",
    "    # Your Code Here\n",
    "    # End Code Here\n",
    "    return distance\n",
    "\n",
    "assert levenshtein_distance(\"hi\", \"hello\") == 4.0\n",
    "print(levenshtein_distance(\"hola\", \"hello\"))\n",
    "# a) 1.0\n",
    "# b) 2.0\n",
    "# c) 3.0\n",
    "# d) 4.0"
   ]
  },
  {
   "cell_type": "code",
   "execution_count": null,
   "id": "363318a4",
   "metadata": {},
   "outputs": [],
   "source": [
    "# Câu hỏi 5: Hoàn thành chương trình sau. Đầu ra của chương trình dưới đây là gì?\n",
    "def check_the_number(N):\n",
    "    list_of_numbers = []\n",
    "    result = \"\"\n",
    "    for i in range(1, 5):\n",
    "        # Your code here\n",
    "        # Su dung append them i vao trong list_of_number\n",
    "    if N in list_of_numbers:\n",
    "        results = \"True\"\n",
    "    if N not in list_of_numbers:\n",
    "        results = \"False\"\n",
    "    return results\n",
    "\n",
    "N = 7\n",
    "assert check_the_number(N) == \"False\"\n",
    "\n",
    "N = 2\n",
    "results = check_the_number(N)\n",
    "print(results)\n",
    "# a) True\n",
    "# b) False\n",
    "# c) None\n",
    "# d) Raise an Error"
   ]
  },
  {
   "cell_type": "code",
   "execution_count": null,
   "id": "56119493",
   "metadata": {},
   "outputs": [],
   "source": [
    "# Câu hỏi 6: Hãy hoàn thành chương trình dưới đây. Đầu ra của chương trình là gì?\n",
    "def my_function(data, max, min):\n",
    "    result = []\n",
    "    for i in data:\n",
    "        # Your code here\n",
    "        # Neu i < min thi them min vao result\n",
    "        elif i > max:\n",
    "            result.append(max)\n",
    "        else:\n",
    "            result.append(i)\n",
    "    return result\n",
    "\n",
    "my_list = [5, 2, 5, 0, 1]\n",
    "max = 1\n",
    "min = 0\n",
    "assert my_function(max=max, min=min, data=my_list) == [1, 1, 1, 0, 1]\n",
    "\n",
    "my_list = [10, 2, 5, 0, 1]\n",
    "max = 2\n",
    "min = 1\n",
    "print(my_function(max=max, min=min, data=my_list))\n",
    "# a) [10, 2, 5, 1, 1]\n",
    "# b) [0, 2, 2, 0, 0]\n",
    "# c) [2, 2, 2, 1, 1]\n",
    "# d) Raise an Error"
   ]
  },
  {
   "cell_type": "code",
   "execution_count": null,
   "id": "afa71898",
   "metadata": {},
   "outputs": [],
   "source": [
    "# Câu hỏi 7: Hãy hoàn thành chương trình dưới đây. Đầu ra của chương trình là gì?\n",
    "def my_function(x, y):\n",
    "    # Your code here\n",
    "    # Su dung extend de noi y vao x\n",
    "    # return x\n",
    "\n",
    "list_num1 = ['a', 2, 5]\n",
    "list_num2 = [1, 1]\n",
    "list_num3 = [0, 0]\n",
    "\n",
    "assert my_function(list_num1, my_function(list_num2, list_num3)) == ['a', 2, 5, 1, 1, 0, 0]\n",
    "\n",
    "list_num1 = [1, 2]\n",
    "list_num2 = [3, 4]\n",
    "list_num3 = [0, 0]\n",
    "print(my_function(list_num1, my_function(list_num2, list_num3)))\n",
    "# a) [1, 2, 3, 4, 0, 0]\n",
    "# b) [1, 2, [3, 4, 0, 0]]\n",
    "# c) [[1, 2, 3, 4, 0, 0]]\n",
    "# d) Raise an Error"
   ]
  },
  {
   "cell_type": "code",
   "execution_count": null,
   "id": "a514ccc4",
   "metadata": {},
   "outputs": [],
   "source": [
    "#123"
   ]
  }
 ],
 "metadata": {
  "kernelspec": {
   "display_name": "Artificial-Intelligence",
   "language": "python",
   "name": "python3"
  },
  "language_info": {
   "codemirror_mode": {
    "name": "ipython",
    "version": 3
   },
   "file_extension": ".py",
   "mimetype": "text/x-python",
   "name": "python",
   "nbconvert_exporter": "python",
   "pygments_lexer": "ipython3",
   "version": "3.11.9"
  }
 },
 "nbformat": 4,
 "nbformat_minor": 5
}
