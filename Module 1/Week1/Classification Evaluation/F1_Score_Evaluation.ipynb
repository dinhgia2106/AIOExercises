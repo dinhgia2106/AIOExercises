{
 "cells": [
  {
   "cell_type": "markdown",
   "metadata": {},
   "source": [
    "1. Viết function thực hiện đánh giá classification model bằng F1-Score."
   ]
  },
  {
   "cell_type": "code",
   "execution_count": 39,
   "metadata": {},
   "outputs": [
    {
     "name": "stdout",
     "output_type": "stream",
     "text": [
      "tp must be a positive integer\n"
     ]
    }
   ],
   "source": [
    "#Using global dictionary\n",
    "def classification_model_f1score():\n",
    "    for var in ['tp', 'fp', 'fn']:\n",
    "        try:\n",
    "            globals()[var] = int(input(f\"{var} = \"))\n",
    "            if globals()[var] <= 0:\n",
    "                raise ValueError\n",
    "        except ValueError:\n",
    "            print(f\"{var} must be a positive integer\")\n",
    "            return\n",
    "\n",
    "    tp = globals()['tp']\n",
    "    fp = globals()['fp']\n",
    "    fn = globals()['fn']\n",
    "\n",
    "    precision = tp / (tp + fp)\n",
    "    recall = tp / (tp + fn)\n",
    "    f1_score = 2 * (precision * recall) / (precision + recall)\n",
    "\n",
    "    print(f\"Precision: {precision:.2f}\")\n",
    "    print(f\"Recall: {recall:.2f}\")\n",
    "    print(f\"F1-score: {f1_score:.2f}\")\n",
    "\n",
    "if __name__ == \"__main__\":\n",
    "    classification_model_f1score()"
   ]
  },
  {
   "cell_type": "code",
   "execution_count": 1,
   "metadata": {},
   "outputs": [
    {
     "name": "stdout",
     "output_type": "stream",
     "text": [
      "Precision: 0.22\n",
      "Recall: 0.16\n",
      "F1-score: 0.18\n"
     ]
    }
   ],
   "source": [
    "#Using local dictionary\n",
    "def classification_model_f1score():\n",
    "    values = {}\n",
    "    for var in ['tp', 'fp', 'fn']:\n",
    "        try:            \n",
    "            values[var] = int(input(f\"{var} = \"))\n",
    "            \n",
    "            if values[var] <= 0:\n",
    "                raise ValueError\n",
    "        except ValueError:\n",
    "            print(f\"{var} must be a positive integer\")\n",
    "            return\n",
    "\n",
    "    tp = values['tp']\n",
    "    fp = values['fp']\n",
    "    fn = values['fn']\n",
    "\n",
    "    precision = tp / (tp + fp)\n",
    "    recall = tp / (tp + fn)\n",
    "    f1_score = 2 * (precision * recall) / (precision + recall)\n",
    "\n",
    "    print(f\"Precision: {precision:.2f}\")\n",
    "    print(f\"Recall: {recall:.2f}\")\n",
    "    print(f\"F1-score: {f1_score:.2f}\")\n",
    "\n",
    "if __name__ == \"__main__\":\n",
    "    classification_model_f1score()"
   ]
  }
 ],
 "metadata": {
  "kernelspec": {
   "display_name": "Python 3",
   "language": "python",
   "name": "python3"
  },
  "language_info": {
   "codemirror_mode": {
    "name": "ipython",
    "version": 3
   },
   "file_extension": ".py",
   "mimetype": "text/x-python",
   "name": "python",
   "nbconvert_exporter": "python",
   "pygments_lexer": "ipython3",
   "version": "3.11.3"
  }
 },
 "nbformat": 4,
 "nbformat_minor": 2
}
