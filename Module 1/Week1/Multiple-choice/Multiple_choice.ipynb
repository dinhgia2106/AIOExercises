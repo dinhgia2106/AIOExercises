{
 "cells": [
  {
   "cell_type": "code",
   "execution_count": 4,
   "metadata": {},
   "outputs": [
    {
     "name": "stdout",
     "output_type": "stream",
     "text": [
      "0.31\n"
     ]
    }
   ],
   "source": [
    "#1\n",
    "def calc_f1_score (tp , fp , fn):\n",
    "    precision = tp / (tp + fp)\n",
    "    recall = tp / (tp + fn)\n",
    "    f1_score = 2 * (precision * recall) / (precision + recall)\n",
    "    return f1_score\n",
    "\n",
    "assert round(calc_f1_score(tp =2, fp =3, fn =5), 2) == 0.33\n",
    "print(round(calc_f1_score(tp =2, fp =4, fn =5), 2))"
   ]
  },
  {
   "cell_type": "code",
   "execution_count": 6,
   "metadata": {},
   "outputs": [
    {
     "name": "stdout",
     "output_type": "stream",
     "text": [
      "True\n",
      "False\n"
     ]
    }
   ],
   "source": [
    "#2\n",
    "def is_number (n):\n",
    "    if isinstance(n, int):\n",
    "        return True\n",
    "    else:\n",
    "        return False\n",
    "    \n",
    "assert is_number (3) == 1.0\n",
    "assert is_number ('-2a') == 0.0\n",
    "print ( is_number (1))\n",
    "print ( is_number ('n'))"
   ]
  },
  {
   "cell_type": "code",
   "execution_count": 16,
   "metadata": {},
   "outputs": [
    {
     "name": "stdout",
     "output_type": "stream",
     "text": [
      "0.0\n"
     ]
    }
   ],
   "source": [
    "#3\n",
    "x = -2.0\n",
    "if x <=0:\n",
    "    y = 0.0\n",
    "else :\n",
    "    y = x\n",
    "print (y)"
   ]
  },
  {
   "cell_type": "code",
   "execution_count": 12,
   "metadata": {},
   "outputs": [
    {
     "name": "stdout",
     "output_type": "stream",
     "text": [
      "0.88\n"
     ]
    }
   ],
   "source": [
    "#4\n",
    "from math import e\n",
    "\n",
    "def calc_sig(x):\n",
    "    return 1 / (1 + e ** (-x))\n",
    "\n",
    "assert round(calc_sig(3), 2) == 0.95\n",
    "print(round(calc_sig(2), 2))"
   ]
  },
  {
   "cell_type": "code",
   "execution_count": 17,
   "metadata": {},
   "outputs": [
    {
     "name": "stdout",
     "output_type": "stream",
     "text": [
      "-0.01\n"
     ]
    }
   ],
   "source": [
    "#5\n",
    "def calc_elu(x):\n",
    "    if x <= 0:\n",
    "        return 0.01 * (e ** x - 1)\n",
    "    else:\n",
    "        return x\n",
    "    \n",
    "assert round(calc_elu(1)) == 1\n",
    "print(round(calc_elu(-1), 2))"
   ]
  },
  {
   "cell_type": "code",
   "execution_count": 18,
   "metadata": {},
   "outputs": [
    {
     "name": "stdout",
     "output_type": "stream",
     "text": [
      "0.95\n"
     ]
    }
   ],
   "source": [
    "#6\n",
    "def calc_activation_func(x, act_name):\n",
    "    alpha = 0.01\n",
    "    \n",
    "    if act_name.lower() == \"sigmoid\":\n",
    "       return 1 / (1 + e ** -x)\n",
    "    elif act_name.lower() == \"relu\":\n",
    "        return max(0, x)\n",
    "    elif act_name.lower() == \"elu\":\n",
    "        return alpha * (e ** x - 1) if x <= 0 else x\n",
    "\n",
    "assert calc_activation_func(x = 1, act_name = 'relu') == 1\n",
    "print(round(calc_activation_func(x = 3, act_name = 'sigmoid'), 2))"
   ]
  },
  {
   "cell_type": "code",
   "execution_count": 20,
   "metadata": {},
   "outputs": [
    {
     "name": "stdout",
     "output_type": "stream",
     "text": [
      "7\n"
     ]
    }
   ],
   "source": [
    "#7\n",
    "def calc_ae(y, y_hat):\n",
    "  return abs(y - y_hat)\n",
    "\n",
    "y = 1\n",
    "y_hat = 6\n",
    "assert calc_ae(y, y_hat) == 5\n",
    "y = 2\n",
    "y_hat = 9\n",
    "print(calc_ae(y, y_hat))\n"
   ]
  },
  {
   "cell_type": "code",
   "execution_count": 22,
   "metadata": {},
   "outputs": [
    {
     "name": "stdout",
     "output_type": "stream",
     "text": [
      "1\n"
     ]
    }
   ],
   "source": [
    "#8\n",
    "def calc_se(y, y_hat):\n",
    "\n",
    "    absolute_error = abs(y - y_hat)\n",
    "    return absolute_error\n",
    "\n",
    "y = 2\n",
    "y_hat = 1\n",
    "print(calc_se(y, y_hat))"
   ]
  },
  {
   "cell_type": "code",
   "execution_count": 27,
   "metadata": {},
   "outputs": [
    {
     "name": "stdout",
     "output_type": "stream",
     "text": [
      "-1.0\n"
     ]
    }
   ],
   "source": [
    "#9\n",
    "def factorial(n):\n",
    "    result = 1\n",
    "    for i in range(2, n + 1):\n",
    "        result *= i\n",
    "    return result\n",
    "\n",
    "def approx_cos(x, n):\n",
    "    approx_cos = 0\n",
    "    for i in range(n):\n",
    "        approx_cos += (-1) ** i * (x ** (2 * i) / factorial(2 * i))\n",
    "    return approx_cos\n",
    "\n",
    "assert round(approx_cos(x = 1, n = 10), 2) == 0.54\n",
    "print(round(approx_cos(x = 3.14, n = 10), 2))"
   ]
  },
  {
   "cell_type": "code",
   "execution_count": 29,
   "metadata": {},
   "outputs": [
    {
     "name": "stdout",
     "output_type": "stream",
     "text": [
      "0.0016\n"
     ]
    }
   ],
   "source": [
    "#10\n",
    "def factorial(n):\n",
    "    result = 1\n",
    "    for i in range(2, n + 1):\n",
    "        result *= i\n",
    "    return result\n",
    "\n",
    "def approx_sin(x, n):\n",
    "    approx_sin = 0\n",
    "    for i in range(n):\n",
    "        approx_sin += (-1) ** i * (x ** (2 * i + 1) / factorial(2 * i + 1))\n",
    "    return approx_sin\n",
    "\n",
    "assert round(approx_sin(x = 1, n = 10), 4) == 0.8415\n",
    "print(round(approx_sin(x = 3.14, n = 10), 4))"
   ]
  },
  {
   "cell_type": "code",
   "execution_count": 30,
   "metadata": {},
   "outputs": [
    {
     "name": "stdout",
     "output_type": "stream",
     "text": [
      "11.53\n"
     ]
    }
   ],
   "source": [
    "#11\n",
    "def factorial(n):\n",
    "    result = 1\n",
    "    for i in range(2, n + 1):\n",
    "        result *= i\n",
    "    return result\n",
    "\n",
    "def approx_sinh(x, n):\n",
    "    approx_sinh = 0\n",
    "    for i in range(n):\n",
    "        approx_sinh += x ** (2 * i + 1) / factorial(2 * i + 1)\n",
    "    return approx_sinh\n",
    "\n",
    "assert round(approx_sinh(x = 1, n = 10), 2) == 1.18\n",
    "print(round(approx_sinh(x = 3.14, n = 10), 2))"
   ]
  },
  {
   "cell_type": "code",
   "execution_count": 31,
   "metadata": {},
   "outputs": [
    {
     "name": "stdout",
     "output_type": "stream",
     "text": [
      "11.57\n"
     ]
    }
   ],
   "source": [
    "#12\n",
    "def factorial(n):\n",
    "    result = 1\n",
    "    for i in range(2, n + 1):\n",
    "        result *= i\n",
    "    return result\n",
    "\n",
    "def approx_cosh(x, n):\n",
    "    approx_cosh = 0\n",
    "    for i in range(n):\n",
    "        approx_cosh += x ** (2 * i) / factorial(2 * i)\n",
    "    return approx_cosh\n",
    "\n",
    "assert round(approx_cosh(x = 1, n = 10), 2) == 1.54\n",
    "print(round(approx_cosh(x = 3.14, n = 10), 2))"
   ]
  },
  {
   "cell_type": "code",
   "execution_count": 32,
   "metadata": {},
   "outputs": [],
   "source": [
    "#13\n",
    "def md_nre_single_sample (y, y_hat , n, p):\n",
    "    y_root = y ** (1/n)\n",
    "    y_hat_root = y_hat ** (1/n)\n",
    "    difference = y_root - y_hat_root\n",
    "    loss = difference ** p\n",
    "    return loss"
   ]
  }
 ],
 "metadata": {
  "kernelspec": {
   "display_name": "Python 3",
   "language": "python",
   "name": "python3"
  },
  "language_info": {
   "codemirror_mode": {
    "name": "ipython",
    "version": 3
   },
   "file_extension": ".py",
   "mimetype": "text/x-python",
   "name": "python",
   "nbconvert_exporter": "python",
   "pygments_lexer": "ipython3",
   "version": "3.12.3"
  }
 },
 "nbformat": 4,
 "nbformat_minor": 2
}
